{
 "cells": [
  {
   "cell_type": "code",
   "execution_count": 1,
   "id": "54ab8e8a-68c0-4e25-9af0-c3ac3bff56fa",
   "metadata": {},
   "outputs": [
    {
     "name": "stdout",
     "output_type": "stream",
     "text": [
      "Requirement already satisfied: transformers in d:\\dell\\anaconda\\lib\\site-packages (4.48.1)\n",
      "Requirement already satisfied: torch in d:\\dell\\anaconda\\lib\\site-packages (2.6.0)\n"
     ]
    },
    {
     "name": "stderr",
     "output_type": "stream",
     "text": [
      "ERROR: Could not find a version that satisfies the requirement tkinter (from versions: none)\n",
      "ERROR: No matching distribution found for tkinter\n"
     ]
    }
   ],
   "source": [
    "!pip install transformers torch tkinter"
   ]
  },
  {
   "cell_type": "code",
   "execution_count": null,
   "id": "0eefcf94-b0b6-42a2-ba73-bdf95113fda2",
   "metadata": {},
   "outputs": [
    {
     "name": "stdout",
     "output_type": "stream",
     "text": [
      "WARNING:tensorflow:From D:\\DELL\\anaconda\\Lib\\site-packages\\tf_keras\\src\\losses.py:2976: The name tf.losses.sparse_softmax_cross_entropy is deprecated. Please use tf.compat.v1.losses.sparse_softmax_cross_entropy instead.\n",
      "\n"
     ]
    },
    {
     "name": "stderr",
     "output_type": "stream",
     "text": [
      "Device set to use cpu\n"
     ]
    }
   ],
   "source": [
    "import tkinter as tk\n",
    "from tkinter import messagebox\n",
    "from transformers import pipeline\n",
    "\n",
    "sentiment_model = pipeline('sentiment-analysis', model='finiteautomata/bertweet-base-sentiment-analysis')\n",
    "\n",
    "root = tk.Tk()\n",
    "root.title(\"Sentiment Analysis App\")\n",
    "\n",
    "root.geometry(\"400x300\")\n",
    "\n",
    "label = tk.Label(root, text=\"Enter a sentence for sentiment analysis\", font=(\"Helvetica\", 12))\n",
    "label.pack(pady=10)\n",
    "\n",
    "text_input = tk.Text(root, height=5, width=35)\n",
    "text_input.pack(pady=10)\n",
    "\n",
    "def analyze_sentiment():\n",
    "    sentence = text_input.get(\"1.0\", \"end-1c\").strip()\n",
    "    if sentence:\n",
    "        result = sentiment_model(sentence)\n",
    "        sentiment = ''\n",
    "        if(result[0]['label'] == 'POS'):\n",
    "            sentiment = 'Positive Sentence'\n",
    "        elif(result[0]['label'] == 'NEG'):\n",
    "            sentiment = 'Negative Sentence'\n",
    "        else:\n",
    "            sentiment = 'Neutral Sentence'\n",
    "            \n",
    "        confidence = round(result[0]['score'], 4)\n",
    "\n",
    "        messagebox.showinfo(\"Sentiment Analysis Result\", f\"Sentiment: {sentiment}\\nConfidence: {confidence}\")\n",
    "    else:\n",
    "        messagebox.showwarning(\"Input Error\", \"Please enter a sentence to analyze.\")\n",
    "\n",
    "analyze_button = tk.Button(root, text=\"Analyze Sentiment\", command=analyze_sentiment, font=(\"Helvetica\", 12), bg=\"#4CAF50\", fg=\"white\")\n",
    "analyze_button.pack(pady=20)\n",
    "\n",
    "root.mainloop()\n"
   ]
  },
  {
   "cell_type": "code",
   "execution_count": null,
   "id": "5b094eed-9c38-4c4a-a25a-1796903a50e4",
   "metadata": {},
   "outputs": [],
   "source": []
  }
 ],
 "metadata": {
  "kernelspec": {
   "display_name": "Python [conda env:base] *",
   "language": "python",
   "name": "conda-base-py"
  },
  "language_info": {
   "codemirror_mode": {
    "name": "ipython",
    "version": 3
   },
   "file_extension": ".py",
   "mimetype": "text/x-python",
   "name": "python",
   "nbconvert_exporter": "python",
   "pygments_lexer": "ipython3",
   "version": "3.12.7"
  }
 },
 "nbformat": 4,
 "nbformat_minor": 5
}
